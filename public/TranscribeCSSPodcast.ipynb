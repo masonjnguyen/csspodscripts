{
  "cells": [
    {
      "cell_type": "code",
      "execution_count": null,
      "metadata": {
        "id": "ulx-YVt1VicN"
      },
      "outputs": [],
      "source": [
        "# Run this cell first, then restart the runtime and don't run this cell again.\n",
        "!pip install setuptools-rust --quiet"
      ]
    },
    {
      "cell_type": "code",
      "source": [
        "# Install Whisper large model\n",
        "!pip install git+https://github.com/openai/whisper.git --quiet \n",
        "!sudo apt-get -qq update && sudo apt-get -qq install ffmpeg \n",
        "import whisper\n",
        "model = whisper.load_model(\"large\")"
      ],
      "metadata": {
        "id": "SSu1rUHMKnEh"
      },
      "execution_count": null,
      "outputs": []
    },
    {
      "cell_type": "code",
      "execution_count": null,
      "metadata": {
        "id": "ldRgialfLMT-"
      },
      "outputs": [],
      "source": [
        "# Get list of episode mp3\n",
        "!pip install feedparser --quiet\n",
        "import feedparser\n",
        "podcast_rss_url = 'https://thecsspodcast.libsyn.com/rss'\n",
        "podcast_feed = feedparser.parse(podcast_rss_url)\n",
        "podcast_audio_urls = list()\n",
        "podcast_titles = list()\n",
        "podcast_slugs = list()\n",
        "for entry in reversed(podcast_feed.entries):\n",
        "    podcast_audio_urls.append(entry['links'][1]['href'].split('?')[0])\n",
        "    podcast_titles.append(entry['title'])\n",
        "    podcast_slugs.append(entry['link'].split('/')[3])"
      ]
    },
    {
      "cell_type": "code",
      "source": [
        "# latest to oldest\n",
        "output_file = open(\"meta.json\", \"a\")\n",
        "output_file.write(\"{\\n\")\n",
        "\n",
        "for entry in podcast_feed.entries[:-1]:\n",
        "    output_file.write('\"' + entry['link'].split('/')[3] + '\": \"' + entry['title'] + '\",\\n') \n",
        "\n",
        "output_file.write('\"' + podcast_feed.entries[-1]['link'].split('/')[3] + '\": \"' + podcast_feed.entries[-1]['title'] + '\"\\n')\n",
        "output_file.write(\"}\")\n",
        "output_file.close()"
      ],
      "metadata": {
        "id": "OCBD_THYfN_p"
      },
      "execution_count": null,
      "outputs": []
    },
    {
      "cell_type": "markdown",
      "source": [
        "![image.png](data:image/png;base64,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)  \n",
        "This is what I call an **episode_id**"
      ],
      "metadata": {
        "id": "z3ocr8A7j4Pt"
      }
    },
    {
      "cell_type": "code",
      "source": [
        "# oldest to latest\n",
        "spotify_episode_ids = [\n",
        " '1j2EhMoMkbiuC9LkrLG1gX',\n",
        " '4hv6ogNtJZtvxKcQ67Ctpn',\n",
        " '2I3gJ9AFUi08Sm9CV7wydO',\n",
        " '698XEvD2VUmg4iVZEZqL7I',\n",
        " '7q4lpdJOIYaUTNMwjUvRxP',\n",
        " '5WcgqRbtXg6j6N9GEO96ve',\n",
        " '2wdKgTolHCMXS1YD24WMHH',\n",
        " '68JoJ3go7Bat0pnyv4jIlT',\n",
        " '3bsih2GEdptNtvMwlfcAMS',\n",
        " '6L7jidxKmTcF1eo915Y9ZZ',\n",
        " '0ctemNh38ZZIB8eLp9GdxG',\n",
        " '1M8LFVdO5iH3CpXAsTZOKx',\n",
        " '1HqJd2WNsWwF5N4kdWmYUD',\n",
        " '1woLO9AzhL7AttbCsaL1o7',\n",
        " '4oQ23OfgIMUsrJ4iuV9mG5',\n",
        " '0XyDsL1T9k5vBvwyjfr7JH',\n",
        " '0uKRf077iHI4aWPjIHpeey',\n",
        " '4tNfpDEZg8iAkGHUlrLRsc',\n",
        " '1Z0fKRilywVPqSNzlk8X97',\n",
        " '0TdScjKYIBNRnT9pSWKnn2',\n",
        " '1JugZhO82tJa8c1LFpR6il',\n",
        " '6IbuahSZJj7e05NmjyhiYW',\n",
        " '4E2B76Crmivzr9788HaM2J',\n",
        " '3OBjg2LukmwWTKzs4fA0AJ',\n",
        " '6cKb0tJzj5pgIJtPRq6pws',\n",
        " '2uE2ZqYdQekeqOATayKZNQ',\n",
        " '72Wv3rzzW3pND9w7RIuWrp',\n",
        " '1YlWP1lbFe2PSkHeByRvKK',\n",
        " '4vODG8jxzIDxECi63fzZTC',\n",
        " '285lGk0afcLFyOid6SEJU3',\n",
        " '1Y7NXhNzM5oT0Qbcrq8pwn',\n",
        " '3SpJgBhxIGsIBKvvhtnjr1',\n",
        " '7C4WFzNYXzFt7JRhtlX9Qd',\n",
        " '3piht4fX3ZtNe59NOEW9Ou',\n",
        " '6m1VpH4sIiBksEsaYcm5vR',\n",
        " '3ZnB2eIM4MRn3RR7rbWjf3',\n",
        " '0A6JQDnxwTG9wRaSz2rCEU',\n",
        " '0QWnb3VbNTRPWiAEc3gUYA',\n",
        " '5EhdwEHCBeg0qB5ilqf5Ys',\n",
        " '2lOl1RG3deF4JbuJQfQffd',\n",
        " '2lOl1RG3deF4JbuJQfQffd',\n",
        " '02VO53lNDAYj46zIlbeWQx',\n",
        " '67Cm2VoDbtAmOMLlf8g5Z1',\n",
        " '4HyziUjpMt5HZ4mbVvBlDp',\n",
        " '4o1ateFDezB5lvAgDHC1tf',\n",
        " '2NUzPqu3NcA8OkxdYJkiU4',\n",
        " '3WiLji83Iz2kuKuQGxJ6DY',\n",
        " '5x85WPhwm9GY2fQVoT7IoT',\n",
        " '3gpPwzRw80Cj7NiBNIlE2I',\n",
        " '731Ql5cmL5n3gPvx7IQth7',\n",
        " '0XTZOuRuQ5nSxTAUJ9H7AY',\n",
        " '0pYXkLEaj1HiBxEjTHHHYJ',\n",
        " '7fsblWgyksTFmCfGHIgpB9',\n",
        " '7vE7V3JZqRXs4XP24KkhF1',\n",
        " '4L5wmY6jprq5Zz5gIAWnz2',\n",
        " '2orzml5RcWYVgUDLkVgwnQ',\n",
        " '6UAQcFJFc7ViNKlQe4wP0r',\n",
        " '3VOAXo6EZ7THJxm81gVDJZ',\n",
        " '3iAiAYXHG4qztu5FDUSGOm',\n",
        " '33v1CKWKsZbXCSWTcLzLiF']"
      ],
      "metadata": {
        "id": "aP4k4XJ10f1V"
      },
      "execution_count": null,
      "outputs": []
    },
    {
      "cell_type": "code",
      "source": [
        "# This helps convert the timestamps to human-readable format\n",
        "import datetime\n",
        "\n",
        "def transcribe(episode_num):\n",
        "    print(\"Processing episode\", episode_num)\n",
        "    result = model.transcribe(podcast_audio_urls[episode_num - 1])\n",
        "\n",
        "    output_file = open(str(podcast_slugs[episode_num - 1]) + \".mdx\", \"a\")\n",
        "    output_file.write(\"# \" + podcast_titles[episode_num - 1] + \"\\n\")\n",
        "    output_file.write(\"\\n\")\n",
        "    output_file.write('<div>\\n')\n",
        "    output_file.write('\\t<audio\\n')\n",
        "    output_file.write(\"\\t\\tstyle={{ width: 100 + '%', marginTop: 1 + 'rem' }}\\n\")\n",
        "    output_file.write('\\t\\tcontrols\\n')\n",
        "    output_file.write('\\t\\tsrc=\"' + str(podcast_audio_urls[i - 1]) + '\"\\n')\n",
        "    output_file.write('\\t/>\\n')\n",
        "    output_file.write('</div>\\n')\n",
        "    output_file.write(\"\\n\")\n",
        "    output_file.write(\"| Timestamp | Transcript |\" + \"\\n\")\n",
        "    output_file.write(\"|---|---|\" + \"\\n\")\n",
        "\n",
        "    for segment in result['segments']:\n",
        "        output_file.write(\"| \" + \"[\" + str(datetime.timedelta(seconds=round(segment['start']))) + \"]\" + \"(https://open.spotify.com/episode/\" + spotify_episode_ids[episode_num - 1] + \"?&t=\" + str(round(segment['start'], 3)) + \")\" + \" | \" + segment['text'] + \" |\" + \"\\n\")\n",
        "\n",
        "    output_file.close()"
      ],
      "metadata": {
        "id": "twecOMhm4xuW"
      },
      "execution_count": null,
      "outputs": []
    },
    {
      "cell_type": "code",
      "source": [
        "for i in range(1, len(podcast_audio_urls) + 1):\n",
        "    transcribe(i)"
      ],
      "metadata": {
        "id": "Qk2ishFCAR8_"
      },
      "execution_count": null,
      "outputs": []
    }
  ],
  "metadata": {
    "accelerator": "GPU",
    "colab": {
      "collapsed_sections": [],
      "provenance": []
    },
    "kernelspec": {
      "display_name": "Python 3",
      "name": "python3"
    },
    "language_info": {
      "name": "python"
    }
  },
  "nbformat": 4,
  "nbformat_minor": 0
}